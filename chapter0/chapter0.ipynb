{
 "cells": [
  {
   "cell_type": "markdown",
   "metadata": {},
   "source": [
    "# Chapter 1 the basics of bayesian statistics\n",
    "\n",
    "Bayesian statistics mostly involves <b>conditional probability</b>, which is the probability of an event A <b>given</b> event B, and it can be calculated using the bayes rule. The concept of conditional probability is widely used in medical testing, in which false positives and false negatives may occur. A false positive can be defined as a positive outcome on a medical test when the patient does not actually have the disease they are being tested for. In other words, it's the probability of testing positive given no disease. Similarly, a false negative can be defined as a negative outcome on a medical test when the patient does have a disease. In other words, test negative given disease. Both indicators are critical for any medical decisions.\n",
    "\n",
    "For how the Bayes rule is applied, we can set up a prior, then calculate posterior probabilities based on prior and likelihood. That is to say, the prior probabilities are updates through an iterative process of data collection."
   ]
  },
  {
   "cell_type": "markdown",
   "metadata": {},
   "source": [
    "## 1.1 Bayes' Rule\n",
    "\n",
    "This section introduces how the Bayes' rule is applied to calculating conditional probability, and several real-life-examples are demonstrated. Finally, we compare the bayesian and frequentist definition of probability."
   ]
  },
  {
   "cell_type": "markdown",
   "metadata": {},
   "source": [
    "### 1.1.1 Conditional Probabilities & Bayes' Rule\n",
    "\n",
    "Consider tabel 1.1 it shows the results of a poll among 1738 adult Amricans. This table allows us to calculate probabilities.\n",
    "\n",
    "for instance the probabilitie of an adult American using an online an online dating site can bhe calculated as\n",
    "\\begin{equation}\n",
    "P (using an online dating site) = \\frac{Number that used online dating site}{total number in poll} = \\frac{225}{1738} = 13%\n",
    "\\end{equation}\n",
    "\n",
    "This is the overall probability of using an online dating site. Say, we are now interested in the probability of using an online dating site if one falls in the age group 30-49. Similar to the above we have\n",
    "\\begin{equation}\n",
    "P (using an online dating site | in age group 30-49 ) = \\frac{Number that used online dating site and in age group 30-49}{total number in that age group 30-49}  = \\frac{86}{512} = 17\n",
    "\\end{equation}\n",
    "\n",
    "Here the pipe symbol means conditional on. This is a conditional probability as one can consider it the probability of using an online dating site conditional on being in age group 30-49\n",
    "\n",
    "<b>Definition 1.1 (bayes Rule)</b> The conditional probability of the even A conditional on the even B is given by\n",
    "\\begin{equation}\n",
    "P (A | B) = \\frac{P(A and B)}{P(B)} \n",
    "\\end{equation}"
   ]
  },
  {
   "cell_type": "code",
   "execution_count": 9,
   "metadata": {},
   "outputs": [
    {
     "data": {
      "text/html": [
       "<div>\n",
       "<style scoped>\n",
       "    .dataframe tbody tr th:only-of-type {\n",
       "        vertical-align: middle;\n",
       "    }\n",
       "\n",
       "    .dataframe tbody tr th {\n",
       "        vertical-align: top;\n",
       "    }\n",
       "\n",
       "    .dataframe thead th {\n",
       "        text-align: right;\n",
       "    }\n",
       "</style>\n",
       "<table border=\"1\" class=\"dataframe\">\n",
       "  <thead>\n",
       "    <tr style=\"text-align: right;\">\n",
       "      <th></th>\n",
       "      <th>18-29</th>\n",
       "      <th>30-49</th>\n",
       "      <th>50-64</th>\n",
       "      <th>65+</th>\n",
       "      <th>total</th>\n",
       "    </tr>\n",
       "  </thead>\n",
       "  <tbody>\n",
       "    <tr>\n",
       "      <th>used online dating site</th>\n",
       "      <td>60</td>\n",
       "      <td>86</td>\n",
       "      <td>58</td>\n",
       "      <td>21</td>\n",
       "      <td>225</td>\n",
       "    </tr>\n",
       "    <tr>\n",
       "      <th>did not use online dating site</th>\n",
       "      <td>255</td>\n",
       "      <td>426</td>\n",
       "      <td>450</td>\n",
       "      <td>382</td>\n",
       "      <td>1513</td>\n",
       "    </tr>\n",
       "    <tr>\n",
       "      <th>total</th>\n",
       "      <td>315</td>\n",
       "      <td>512</td>\n",
       "      <td>508</td>\n",
       "      <td>403</td>\n",
       "      <td>1738</td>\n",
       "    </tr>\n",
       "  </tbody>\n",
       "</table>\n",
       "</div>"
      ],
      "text/plain": [
       "                                18-29  30-49  50-64  65+  total\n",
       "used online dating site            60     86     58   21    225\n",
       "did not use online dating site    255    426    450  382   1513\n",
       "total                             315    512    508  403   1738"
      ]
     },
     "execution_count": 9,
     "metadata": {},
     "output_type": "execute_result"
    }
   ],
   "source": [
    "import pandas as pd\n",
    "\n",
    "# list of name, degree, score\n",
    "twenties = [60,255,315]\n",
    "thirties = [86,426,512]\n",
    "fifthies = [58,450, 508]\n",
    "sixties = [21, 382, 403]\n",
    "total = [225, 1513, 1738] \n",
    "# dictionary of lists \n",
    "dict = {'18-29': twenties, '30-49': thirties, '50-64': fifthies, '65+': sixties, 'total': total} \n",
    "   \n",
    "table1dot1 = pd.DataFrame(dict)\n",
    "table1dot1.index = [\"used online dating site\", \"did not use online dating site\", \"total\"]\n",
    "table1dot1"
   ]
  },
  {
   "cell_type": "markdown",
   "metadata": {},
   "source": [
    "### 1.1.2 Bayes' Rule and Diagnostic Testing\n",
    "\n",
    "To better understand conditional probabilities and their importance, let us consider an example involving the human immunodeficiency virus (HIV). In the early 80s, HIV had just been discovered and was rapidly expanding. There was major concern with the safety of blood supply. also, virtually no cure existed making an HIV diagnosis basically a death sentence, in addtition to the stigma that was attaches to the disease.\n",
    "\n",
    "These made false positives and false negative in HIV testing highly undesirable. A <b>false positive</b> is when a test returns positive while the truth negative. That would for instance be that someone without HIV is wrongly diagnosed with HIV, wrongly ltelling that person they are going to die and casting stigma on them. A <b>False negative</b> is when a test returns negative while the truth is positive. that is when someone with HIV ondergoes an HIV test which wrongly comes back negative. the latter poses a threat to the blood supply if that person is about to donate blood.\n",
    "\n",
    "The probability of a false positive if the truith is negative is called the <b>False positve rate</b>. Similarly the <b>false negative rate</b> is the probability of a false negative if the truth is positive. Note that both these rates are conditional probabilities. The false positive rate of an HIV test is the probability of a positive result conditional on the person tested have no HIV.\n",
    "\n",
    "The HIV test we consider is an enzyme-linked immunosorbent assay, commonly known as an ELISA. we would like to know the probability that someone in the 80s has HIV id ELISA tests postive. For this we need the following information. ELISA's true positive rate (one minus the falase negative rate) also referred to as sensitivity, recall, or probability of detection, is estimated as\n",
    "\n",
    "\\begin{equation}\n",
    "P (ELISA is potive | person tested has HIV) = 93 = 0.93\n",
    "\\end{equation}\n",
    "\n",
    "its true negative rate (one minus the false positive rate), also referred to as specificity, is estimated as\n",
    "\\begin{equation}\n",
    "P (ELISA is negative | person tested has no HIV) = 99 = 0.99\n",
    "\\end{equation}\n",
    "\n",
    "Also relevant to our question is the prevalence of HIV in the overal population, which is estimated to be 1.48 out of every 1000 american adults. we therefor assume\n",
    "\n",
    "\\begin{equation}\n",
    "P (Person tested has HIV) = \\frac{1.48}{1000} = 0.00148\n",
    "\\end{equation}\n",
    "\n",
    "Note that the above numbers are estimates. For our purposes however we will treat them as if they were exact.\n",
    "\n",
    "Our goal is to compute the probability of HIV if ELISA is positive, that is P (person tested has HIV | ELISA is positive). In none of the aboce numbers did we condition on the outcome of ELISA. Fortunately, Bayes' Rule allows is to use the above numbers to compute the probability we seek. Bayes rule states that\n",
    "\\begin{equation}\n",
    "P (Person tested has HIV | Elisa is positive) = \\frac{P(person tested has HIV and ELISA is positive)}{P(ELISA is positive)}\n",
    "\\end{equation}\n",
    "\n",
    "This can be derived as follows. For someone to test positive and be HIV positive, That person first needs to be HIV positive and then secondly test positive. the probability of the first thing happening is 0.00148. The probability of then testing positive is 0.93, the true positive rate. This yields for the numerator \n",
    "\n",
    "P(person tested has HIV and ELISA is positive) = P(person has tested HIV)*p(Elisa is positive | person tested has HIV) = 0.00148*0.93 =0.0013764\n",
    "\n",
    "The first step in the abovve equestion is implied by Bayes rule: by multiplying the left- and right hand side of bayes' rule as presented in section 1.1.1 by P (B) we obtain\n",
    "\n",
    "\\begin{equation}\n",
    "P (A | B)*P(B) = P(A and B)\n",
    "\\end{equation}\n",
    "\n",
    "The denominator can be expanded as\n",
    "\n",
    "P(ELISA is positive) = P (Person tested has HIV and ELISA is positive) + P(person tested has no HIV and ELISA is positive) = 0.0013764 + 0.0099852\n",
    "\n",
    "where we used and \n",
    "\n",
    "P (person tested has no HIV and ELISA is positive) \t\n",
    "=P(Person tested has no HIV)P(ELISA is positive∣Person tested has no HIV)=(1−P(Person tested has HIV))⋅(1−P(ELISA is negative∣Person tested has no HIV))=(1−0.00148)⋅(1−0.99)=0.0099852\n",
    "\n",
    "Putting this all together and insterting reveals\n",
    "\n",
    "P(Person tested has HIV | ELISA is positive) = 0.0013764/0.0113616 = 0.12\n",
    "\n",
    "So even when ELISA returns positive the probability of hacing HIV is only 12%. An important reason why this number is so low is due to the prevalance of HIV. Before testing, one's probability of HIV was 0.148, so the positive test changes that probability dramatically but it is still below 50%. that is, it is more likely that one is HIV negative rather than positive after one positive ELISA test.\n",
    "\n",
    "Questions like the one we just answered(What is the probability of a disease if a test returns positive?) are crucial to make medical diagnoses. as we saw, just the true positive and true negative rates of a test do not tell the full story but also a diseases prevalences plays a role. Bayes rules is a tool to synthesize such numbers into a more useful probability of having a disease after a test result\n",
    "\n",
    "Example 1.2 What is the probability that someone who tests positive does not actually have HIV?\n",
    "1-12 = 0.88 probability of not having HIV\n",
    "\n",
    "example 1.3 if the individual is at a higher risk for having HIV thtan a randomly sampled person from the population considered, how, if at all, would you epect P(person tested has HIV | ELISA is positive) to change?\n",
    "If the person has a priori a higher risk for HIV and tests positive then the probability of having HIV must be higher than for someone not at increased risk who also tests positive therefore it will be higher than the 0.12 calculated\n",
    "\n",
    "example 1.4 if the false positive rate of thetest is higher than 1%, how if at all would you expect  P(person tested has HIV | ELISA is positive) to change? If the false negative rate increase, the probability of a wrong positive result increases. that means that poositive test results is more likely to be wrong and thus less indicative of HIV. therfore the probability of HIV after a positve ELISA goes down so it will be less then 0.12\n"
   ]
  },
  {
   "cell_type": "code",
   "execution_count": 25,
   "metadata": {},
   "outputs": [],
   "source": [
    "P_ELISA_positive_person_has_HIV = 0.93\n",
    "P_ELISA_negative_person_has_NO_HIV = 0.99\n",
    "P_person_tested_has_hiv = 0.00148\n",
    "\n",
    "def calculate_bayes_of_HIV_given_ELISA(P_ELISA_positive_person_has_HIV = 0.93, P_ELISA_negative_person_has_NO_HIV=0.99, P_person_tested_has_hiv=0.00148):\n",
    "\n",
    "    p_person_has_HIV_ELISA_positive = P_ELISA_positive_person_has_HIV*P_person_tested_has_hiv\n",
    "    p_person_has_no_HIV_ELISA_positive  = (1-P_person_tested_has_hiv) * (1-P_ELISA_negative_person_has_NO_HIV)\n",
    "\n",
    "\n",
    "    P_Person_tested_has_HIV_given_ELISA_is_positive =p_person_has_HIV_ELISA_positive / (p_person_has_HIV_ELISA_positive+p_person_has_no_HIV_ELISA_positive)\n",
    "    return P_Person_tested_has_HIV_given_ELISA_is_positive\n",
    "\n",
    "first_test_prob = calculate_bayes_of_HIV_given_ELISA()"
   ]
  },
  {
   "cell_type": "markdown",
   "metadata": {},
   "source": [
    "### 1.1.3 Bayes Updating\n",
    "\n",
    "In the previous section we saw that one positive ELISA test yields a probability of HIV of 12%. To obtain a more convincing probability, one might want to do a second ELISA test after a first one comes up positive. What is the probability of being HIV positive if also the second ELISA test comes back positive? \n",
    "\n",
    "To solve this problem we will assume that the correctness of this second test is not influenced by the first ELISA, that is, the tests are independent from each other. the assumption probably does not hold true as it is plausible that if the first test was a false positive it is more likely that the second one will be one as well. nonetheless, we stick with the independence assumption for simplicity.\n",
    "\n",
    "In the last section we used P(person tested has HIV) = 0.00148, to compute the probability of HIV after one positive test. if we repeat those steps but now with a P(person tested has HIV) = 0.12, the probability that a person with one positive test has HIV we exactly obtain the probability of HIV after two positive tests. repeating the maths from the previous section involving Bayes rules gives.\n",
    "\n",
    "Since we are considering the same ELISA test, we used the same true positive and true negative rates as in section 1.1.2. We see that two positive tests makes it much more probable for someone to have HIV than when only one test comes up positive.\n",
    "\n",
    "This process of using Bayes' Rule to update a probability based on an event affecting it is called bayes' updating. More generally the what one tries to update can be considered prior information, sometimes simple called the <b>prior</b> the event providing information about this can also be data. then updating this prior using bayes rule give the information conditional on the data, also known as the <b>posterior</b> as in the information <b>after</b> having seen the data. Going from the prior to the posterior is Bayes updating.\n",
    "\n",
    "The probability of HIV after one positive ELISA, 0.12, was the posterior in the previous section as it was an update of the overall prevalence of HIV, however in this section we answered a question where we used this posterior information as the prior. this process of using a posterior as a prior in a new problem is natural in the bayesian framework of updating knowledge based on the data\n",
    "\n"
   ]
  },
  {
   "cell_type": "code",
   "execution_count": 28,
   "metadata": {},
   "outputs": [
    {
     "name": "stdout",
     "output_type": "stream",
     "text": [
      "0.9276384444135243\n"
     ]
    },
    {
     "data": {
      "text/plain": [
       "0.9991619265476611"
      ]
     },
     "execution_count": 28,
     "metadata": {},
     "output_type": "execute_result"
    }
   ],
   "source": [
    "second_test_prob = calculate_bayes_of_HIV_given_ELISA(P_person_tested_has_hiv=first_test_prob)\n",
    "second_test_prob\n",
    "print(second_test_prob)\n",
    "third_test_prob = calculate_bayes_of_HIV_given_ELISA(P_person_tested_has_hiv = second_test_prob)\n",
    "third_test_prob"
   ]
  },
  {
   "cell_type": "markdown",
   "metadata": {},
   "source": [
    "### 1.1.4 Bayesian vs frequentist definitions of probability \n",
    "\n",
    "The frequentist of probability is based on observation of a large number of trials. the probability for an event E occur is P(E) and assume we get nE sucesses out of n trials.\n",
    "\n",
    "On the other hand the bayesian definition of probability P(E) reflects our prior beliefs, so P(E) can be any probability distribution, provided that it is consistent with all of our beliefs. (For example, we cannot believe that the probability of a coin landing heads is 0.7 and ttails is 0.8 because they are inconsistent)\n",
    "\n",
    "The two definitions result in different methods of inference. Using the frequentist approach, we describe the confidence level as the proportion of random samples from the same population that produced confidence intervals which contain the true population parameter. for example if we generated 100 random samples from the population, and 95 of the samples contain the true parameter, then the confidence level is 95%. Note that each sample either contains the true parameter or does not, so the confidence level is NOT the probability that a given interval includes the true population parameter.\n"
   ]
  },
  {
   "cell_type": "markdown",
   "metadata": {},
   "source": [
    "## 1.2 Inference for Proportion"
   ]
  },
  {
   "cell_type": "markdown",
   "metadata": {},
   "source": [
    "### 1.2.1 Inference for a proportion: frequentist approach"
   ]
  },
  {
   "cell_type": "markdown",
   "metadata": {},
   "source": [
    "### 1.2.2 Inference for a proportion: bayesian approach"
   ]
  },
  {
   "cell_type": "markdown",
   "metadata": {},
   "source": [
    "### 1.2.3 Effect of sample size opn the posterior"
   ]
  },
  {
   "cell_type": "markdown",
   "metadata": {},
   "source": [
    "## 1.3 Frequentist vs bayesian inference"
   ]
  },
  {
   "cell_type": "markdown",
   "metadata": {},
   "source": [
    "### 1.3.1 Frequentist vs Bayesian inference"
   ]
  },
  {
   "cell_type": "markdown",
   "metadata": {},
   "source": [
    "## 1.4 Exercises"
   ]
  }
 ],
 "metadata": {
  "kernelspec": {
   "display_name": "base",
   "language": "python",
   "name": "python3"
  },
  "language_info": {
   "codemirror_mode": {
    "name": "ipython",
    "version": 3
   },
   "file_extension": ".py",
   "mimetype": "text/x-python",
   "name": "python",
   "nbconvert_exporter": "python",
   "pygments_lexer": "ipython3",
   "version": "3.11.5"
  }
 },
 "nbformat": 4,
 "nbformat_minor": 2
}
